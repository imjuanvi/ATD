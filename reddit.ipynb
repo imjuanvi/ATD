{
 "cells": [
  {
   "cell_type": "markdown",
   "metadata": {},
   "source": [
    "## REDDIT\n",
    "\n"
   ]
  },
  {
   "cell_type": "code",
   "execution_count": 12,
   "metadata": {},
   "outputs": [],
   "source": [
    "# librerías\n",
    "import json\n",
    "import requests\n"
   ]
  },
  {
   "cell_type": "markdown",
   "metadata": {},
   "source": [
    "Guardamos la información necesaria para la autenticación en un diccionario <b>info</b>:\n",
    "- \"key\": clave de la API\n",
    "- \"secret_key\": clave secreta de la API\n",
    "- \"username\": usuario reddit\n",
    "- \"password\": contraseña reddit"
   ]
  },
  {
   "cell_type": "code",
   "execution_count": 17,
   "metadata": {},
   "outputs": [
    {
     "name": "stdout",
     "output_type": "stream",
     "text": [
      "{'key': 'am9YTKV5rU8rcUWGwd5lpw', 'secret_key': 'ib0GHDO0EdnLao8zzNyyLogGRrqd_w', 'username': 'proyectoatd', 'password': 'NosEncantaATD'}\n"
     ]
    }
   ],
   "source": [
    "with open(\"reddit_access.json\") as f:\n",
    "    info = json.load(f)\n",
    "print(info)"
   ]
  },
  {
   "cell_type": "markdown",
   "metadata": {},
   "source": [
    "#### OAuth temporal para poder acceder a la API de reddit (2h por cada ejecución).\n",
    "\n",
    "Una vez ejecutada esta celda, deberemos añadir <b>header=headers</b> como argumento cada vez que hagamos una <i>request</i>.<br>\n",
    "(Cada vez que ejecutamos la celda generamos un nuevo token)"
   ]
  },
  {
   "cell_type": "code",
   "execution_count": 25,
   "metadata": {},
   "outputs": [
    {
     "name": "stdout",
     "output_type": "stream",
     "text": [
      "1303514750204-3aCIzRIK1fbCx0obqVdc8A7bPpmS4A\n"
     ]
    }
   ],
   "source": [
    "# definimos la autenticación con los valores de nuestra api\n",
    "auth = requests.auth.HTTPBasicAuth(info[\"key\"], info[\"secret_key\"])\n",
    "\n",
    "# aquí definimos nuestro método de acceso, el nombre de la cuenta y la contraseña\n",
    "data = {'grant_type': 'password',\n",
    "        'username': info[\"username\"],\n",
    "        'password': info[\"password\"]}\n",
    "\n",
    "# setup our header info, which gives reddit a brief description of our app\n",
    "headers = {'User-Agent': 'MyBot/0.0.1'}\n",
    "\n",
    "# solicitamos el token temporal de OAuth mediante una request\n",
    "res = requests.post('https://www.reddit.com/api/v1/access_token',\n",
    "                    auth=auth, data=data, headers=headers)\n",
    "\n",
    "# de la respuesta, nos quedamos únicamente con el token\n",
    "token = res.json()['access_token']\n",
    "\n",
    "#print(token)\n",
    "\n",
    "\n",
    "# añadimos el OAuth a las cabeceras (headers)\n",
    "headers = {**headers, **{'Authorization': f\"bearer {token}\"}}"
   ]
  }
 ],
 "metadata": {
  "kernelspec": {
   "display_name": "Python 3",
   "language": "python",
   "name": "python3"
  },
  "language_info": {
   "codemirror_mode": {
    "name": "ipython",
    "version": 3
   },
   "file_extension": ".py",
   "mimetype": "text/x-python",
   "name": "python",
   "nbconvert_exporter": "python",
   "pygments_lexer": "ipython3",
   "version": "3.8.5"
  }
 },
 "nbformat": 4,
 "nbformat_minor": 4
}
