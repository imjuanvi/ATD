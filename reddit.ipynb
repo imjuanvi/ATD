{
 "cells": [
  {
   "cell_type": "markdown",
   "metadata": {},
   "source": [
    "## API REDDIT\n",
    "\n"
   ]
  },
  {
   "cell_type": "code",
   "execution_count": 4,
   "metadata": {},
   "outputs": [],
   "source": []
  },
  {
   "cell_type": "code",
   "execution_count": 23,
   "metadata": {},
   "outputs": [
    {
     "name": "stdout",
     "output_type": "stream",
     "text": [
      "[['id', 'am9YTKV5rU8rcUWGwd5lpw'], ['token', 'ib0GHDO0EdnLao8zzNyyLogGRrqd_w'], ['username', 'proyectoatd'], ['password', 'NosEncantaATD']] {'id': 'am9YTKV5rU8rcUWGwd5lpw', 'token': 'ib0GHDO0EdnLao8zzNyyLogGRrqd_w', 'username': 'proyectoatd', 'password': 'NosEncantaATD'}\n"
     ]
    }
   ],
   "source": [
    "auth = []\n",
    "with open('reddit_acceso.txt') as file:\n",
    "    for linea in file.readlines():\n",
    "        auth.append(linea.strip().split(','))\n",
    "    json = {}\n",
    "    for i in auth:\n",
    "        json[i[0]] = i[1]\n",
    "\n",
    "print(auth,json)"
   ]
  },
  {
   "cell_type": "markdown",
   "metadata": {},
   "source": [
    "#### OAuth temporal para poder acceder a la API de reddit (2h por cada ejecución).\n",
    "\n",
    "Una vez ejecutada la celda, deberemos añadir <b>header=headers</b> cada vez que hagamos una <i>request</i>."
   ]
  },
  {
   "cell_type": "code",
   "execution_count": null,
   "metadata": {},
   "outputs": [],
   "source": [
    "import requests\n",
    "\n",
    "# note that CLIENT_ID refers to 'personal use script' and SECRET_TOKEN to 'token'\n",
    "auth = requests.auth.HTTPBasicAuth('am9YTKV5rU8rcUWGwd5lpw', 'ib0GHDO0EdnLao8zzNyyLogGRrqd_w')\n",
    "\n",
    "# here we pass our login method (password), username, and password\n",
    "data = {'grant_type': 'password',\n",
    "        'username': 'proyectoatd',\n",
    "        'password': 'NosEncantaATD'}\n",
    "\n",
    "# setup our header info, which gives reddit a brief description of our app\n",
    "headers = {'User-Agent': 'MyBot/0.0.1'}\n",
    "\n",
    "# send our request for an OAuth token\n",
    "res = requests.post('https://www.reddit.com/api/v1/access_token',\n",
    "                    auth=auth, data=data, headers=headers)\n",
    "\n",
    "# convert response to JSON and pull access_token value\n",
    "TOKEN = res.json()['access_token']\n",
    "\n",
    "# add authorization to our headers dictionary\n",
    "headers = {**headers, **{'Authorization': f\"bearer {TOKEN}\"}}\n",
    "\n",
    "# while the token is valid (~2 hours) we just add headers=headers to our requests\n",
    "requests.get('https://oauth.reddit.com/api/v1/me', headers=headers)"
   ]
  }
 ],
 "metadata": {
  "kernelspec": {
   "display_name": "Python 3",
   "language": "python",
   "name": "python3"
  },
  "language_info": {
   "codemirror_mode": {
    "name": "ipython",
    "version": 3
   },
   "file_extension": ".py",
   "mimetype": "text/x-python",
   "name": "python",
   "nbconvert_exporter": "python",
   "pygments_lexer": "ipython3",
   "version": "3.8.5"
  }
 },
 "nbformat": 4,
 "nbformat_minor": 4
}
