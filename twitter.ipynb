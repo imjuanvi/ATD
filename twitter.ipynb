{
 "cells": [
  {
   "cell_type": "markdown",
   "metadata": {},
   "source": [
    "## TWITTER"
   ]
  },
  {
   "cell_type": "code",
   "execution_count": 1,
   "metadata": {},
   "outputs": [],
   "source": [
    "# librerías\n",
    "import json\n",
    "import requests"
   ]
  },
  {
   "cell_type": "markdown",
   "metadata": {},
   "source": [
    "Guardamos la información necesaria para la autenticación en un diccionario <b>info</b>:\n",
    "- \"key\": clave de la API\n",
    "- \"secret_key\": clave secreta de la API\n",
    "- \"bearer_token\": token OAuth2\n",
    "- \"username\": usuario reddit\n",
    "- \"password\": contraseña reddit"
   ]
  },
  {
   "cell_type": "code",
   "execution_count": 4,
   "metadata": {},
   "outputs": [
    {
     "name": "stdout",
     "output_type": "stream",
     "text": [
      "{'key': 'Os25AY3pDkAiKmI0YgBlgmRWS', 'secret_key': 'ABEONSor0CS4bhrUjqi0PwtjjjwBgUmUHTVezEdEsK9AGIC3wK', 'bearer_token': 'AAAAAAAAAAAAAAAAAAAAAM7cWwEAAAAAiZgogiONVuMjMo4xomTdAKiHbCs%3DbU5OfBsC0KVp6ZUIwrCzo9QtPtpfVduS2GykRkavtBObgQ8Szn', 'username': 'proyectoatd', 'password': 'NosEncantaATD'}\n"
     ]
    }
   ],
   "source": [
    "with open(\"twitter_access.json\") as f:\n",
    "    info = json.load(f)\n",
    "print(info)"
   ]
  }
 ],
 "metadata": {
  "kernelspec": {
   "display_name": "Python 3",
   "language": "python",
   "name": "python3"
  },
  "language_info": {
   "codemirror_mode": {
    "name": "ipython",
    "version": 3
   },
   "file_extension": ".py",
   "mimetype": "text/x-python",
   "name": "python",
   "nbconvert_exporter": "python",
   "pygments_lexer": "ipython3",
   "version": "3.8.5"
  }
 },
 "nbformat": 4,
 "nbformat_minor": 4
}
